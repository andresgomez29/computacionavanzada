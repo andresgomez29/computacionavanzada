{
 "cells": [
  {
   "cell_type": "code",
   "execution_count": 2,
   "metadata": {},
   "outputs": [],
   "source": [
    "import numpy as np\n",
    "import matplotlib.pyplot as plt\n",
    "from scipy.special import kn"
   ]
  },
  {
   "cell_type": "code",
   "execution_count": 4,
   "metadata": {},
   "outputs": [],
   "source": [
    "class Function:\n",
    "  def __init__(self,Ms_,lash_):\n",
    "    self.Ms = Ms_\n",
    "    self.lash = lash_\n",
    "    self.mh = 125  #GeV  Masa del bosón de Higgs\n",
    "    self.vev = 246 #GeV Valor esperado del vacío\n",
    "    self.val_gamma = 0\n",
    "    self.T = 25.9 * self.Ms #Colocamos un valor de x = 20\n",
    "    self.Mw=80.4\n",
    "    self.Mz=90.4\n",
    "    self.Mt=173.34\n",
    "    self.Mb=4.19\n",
    "    self.Mst=140e-3\n",
    "    self.Mch=1350e-3\n",
    "\n",
    "  def rat(self,m):\n",
    "    return m/self.mh\n",
    "\n",
    "  def gamma(self,m):\n",
    "    factor = 0\n",
    "    if(2*m <= self.mh):\n",
    "      f1 = (self.lash*self.vev) / (32*np.pi*self.mh)\n",
    "      f2 = np.sqrt(1 - self.rat(2*m)**2)\n",
    "      factor = f1 * f2\n",
    "    else:\n",
    "      factor = 0\n",
    "    self.val_gamma = 0.00407 +  factor\n",
    "    return  self.val_gamma\n",
    "\n",
    "  def funcD(self,s):\n",
    "    f1 = (s - self.mh**2)**2\n",
    "    f2 = self.mh**2 * self.gamma(self.Ms)**2\n",
    "    return 1 / (f1 + f2)\n",
    "\n",
    "\n",
    "  def sigma_rel(self,s):\n",
    "    f1 = (2*(self.lash*self.vev)**2) / (s**0.5)\n",
    "    f2 = self.funcD(s) * self.gamma(self.Ms)\n",
    "    return f1*f2\n",
    "  \n",
    "  def sigma_higgs(self,s):\n",
    "    \n",
    "    vs=(1- (4*(self.Ms)**2)/s)**0.5\n",
    "    vh=(1- (4*(self.mh)**2)/s)**0.5\n",
    "    \n",
    "    t_plus=self.Ms**2 +self.mh**2 -0.5*s*(1-vs*vh)\n",
    "    t_minus=self.Ms**2 +self.mh**2 -0.5*s*(1+vs*vh)\n",
    "    \n",
    "    aR=1+ 3*(self.mh**2) * (s-self.mh**2)*self.funcD(s)\n",
    "    aI=3*(self.mh**2)*((s)**0.5) *self.gamma(self.Ms)*self.funcD(s)\n",
    "    \n",
    "    f=self.lash**2 /(16*np.pi*s**2 *vs)\n",
    "    \n",
    "    f1=(aR**2 +aI**2)*s*vs*vh\n",
    "    f2=4*self.lash*self.vev**2 *(aR-(self.lash* self.vev**2)/(s-2*self.mh**2))*np.log(abs((self.Ms**2-t_plus)/(self.Ms**2-t_minus)))\n",
    "    f3=(2*self.lash**2*self.vev**4 *s*vs*vh)/((self.Ms**2-t_minus)*(self.Ms**2-t_plus))\n",
    "    \n",
    "    return f*(f1+f2+f3)\n",
    "  \n",
    "  def sigma_Boson_W(self,s):\n",
    "    x=self.Mw**2 /s\n",
    "    vW=(1-4*x)**0.5\n",
    "    \n",
    "    f=vW*self.lash**2 *s/(8*np.pi)\n",
    "    f1=self.funcD(s)*(1-4*x+12*x**2)\n",
    "    \n",
    "    return f*f1\n",
    "  \n",
    "  def sigma_Bonson_Z(self,s):\n",
    "      x=self.Mz**2 /s\n",
    "      vW=(1-4*x)**0.5\n",
    "    \n",
    "      f=0.5*vW*self.lash**2 *s/(8*np.pi)\n",
    "      f1=self.funcD(s)*(1-4*x+12*x**2)\n",
    "    \n",
    "      return f*f1\n",
    "    \n",
    "  def sigma_fermions_quarks(self,s,m):\n",
    "    Xq=3*(1 + (4*0.12)/(3*np.pi) *((3/2)*np.log(m**2/s) +9/4))\n",
    "    vf=(1-4*m**2 /s)**0.5\n",
    "    f=(self.lash**2 *m**2) /(4*np.pi)\n",
    "    f1=Xq*vf**3 *self.funcD(s)\n",
    "    \n",
    "    return f*f1\n",
    "    \n",
    "    "
   ]
  },
  {
   "cell_type": "code",
   "execution_count": 5,
   "metadata": {},
   "outputs": [],
   "source": [
    "ms = 200\n",
    "lash = 0.1\n",
    "val = Function(ms,lash)"
   ]
  },
  {
   "cell_type": "code",
   "execution_count": 14,
   "metadata": {},
   "outputs": [
    {
     "name": "stdout",
     "output_type": "stream",
     "text": [
      "160000 1600000000\n"
     ]
    }
   ],
   "source": [
    "xMin = 4*ms**2\n",
    "xMax = xMin*int(1e4)\n",
    "print(xMin,xMax)\n",
    "x = np.linspace(xMin,xMax,10000000)\n",
    "\n",
    "list=[xMin,xMax]"
   ]
  },
  {
   "cell_type": "code",
   "execution_count": 15,
   "metadata": {},
   "outputs": [
    {
     "name": "stderr",
     "output_type": "stream",
     "text": [
      "C:\\Users\\invar\\AppData\\Local\\Temp\\ipykernel_27112\\1152773924.py:52: RuntimeWarning: divide by zero encountered in divide\n",
      "  f=self.lash**2 /(16*np.pi*s**2 *vs)\n",
      "C:\\Users\\invar\\AppData\\Local\\Temp\\ipykernel_27112\\1152773924.py:58: RuntimeWarning: invalid value encountered in multiply\n",
      "  return f*(f1+f2+f3)\n"
     ]
    }
   ],
   "source": [
    "#print(val.gamma(ms))\n",
    "#print(val.funcD(ms))\n",
    "#print(val.sigma_rel(ms))\n",
    "y = val.funcion_int(x)"
   ]
  },
  {
   "cell_type": "code",
   "execution_count": 8,
   "metadata": {},
   "outputs": [
    {
     "data": {
      "image/png": "[encoded data removed]",
      "text/plain": [
       "<Figure size 640x480 with 1 Axes>"
      ]
     },
     "metadata": {},
     "output_type": "display_data"
    }
   ],
   "source": [
    "plt.figure()\n",
    "plt.plot(x,y,'k.')\n",
    "plt.xscale('log')\n",
    "plt.xlabel('s')\n",
    "plt.ylabel('f(s)')\n",
    "plt.xlim(int(1e4),int(1e15))\n",
    "plt.axvline(int(1e6), color=\"red\", linewidth=1, linestyle=\"dashed\")\n",
    "plt.show()"
   ]
  },
  {
   "cell_type": "code",
   "execution_count": 16,
   "metadata": {},
   "outputs": [],
   "source": [
    "class Integrador:\n",
    "  def __init__(self,f_,N_,inter):\n",
    "    self.f = f_\n",
    "    self.N = N_\n",
    "    self.a = inter[0]\n",
    "    self.b = inter[1]\n",
    "    self.datos = (self.b - self.a) * np.random.random_sample((self.N)) + self.a\n",
    "    #print(self.datos)\n",
    "    self.F = f_(self.datos)\n",
    "    self.E = 0\n",
    "    self.var = 0\n",
    "    self.div = self.b - self.a\n",
    "\n",
    "  def integral(self):\n",
    "    self.E = self.div*np.sum(self.F) / self.N\n",
    "    return self.E\n",
    "\n",
    "  def varianza(self):\n",
    "    elementos = self.F**2\n",
    "    self.var = (self.div**2)*((np.sum(elementos)/self.N) - self.E**2)\n",
    "    return self.var\n",
    "\n",
    "  def __str__(self):\n",
    "    texto = r\"El valor de la integral es \" + str(self.integral()) + \" y su error es: \" + str(np.sqrt(abs(self.varianza())))\n",
    "    return texto"
   ]
  },
  {
   "cell_type": "code",
   "execution_count": 17,
   "metadata": {},
   "outputs": [
    {
     "name": "stdout",
     "output_type": "stream",
     "text": [
      "El valor de la integral es 2.4546587371740008e-09 y su error es: 3.9270612340804534\n",
      "Cross section en cm^3/s =  2.7756957020761255e-26\n"
     ]
    }
   ],
   "source": [
    "Resultado=Integrador(val.funcion_int,1000000,list)\n",
    "\n",
    "print(Resultado)\n",
    "\n",
    "a=Resultado.integral()\n",
    "Conv=(5.1e13)**3 /(1.5e24)\n",
    "\n",
    "Fact=1/Conv\n",
    "\n",
    "print(\"Cross section en cm^3/s = \", a*Fact)\n",
    "\n",
    "\n",
    "\n",
    "\n"
   ]
  },
  {
   "cell_type": "code",
   "execution_count": 74,
   "metadata": {},
   "outputs": [
    {
     "name": "stdout",
     "output_type": "stream",
     "text": [
      "[8.49183374 7.4442586  6.71597738 7.31516766 8.51114446 6.69376861\n",
      " 9.82558481 9.38987035 7.57846553 6.9086489  9.18816481 9.22240574\n",
      " 9.77989694 8.83870135 7.70994334 5.42197015 6.97405083 6.20230953\n",
      " 9.29204967 9.66978884]\n"
     ]
    }
   ],
   "source": [
    "b=10\n",
    "a=5\n",
    "print((b - a) * np.random.random_sample(20) + a )"
   ]
  },
  {
   "cell_type": "code",
   "execution_count": 114,
   "metadata": {},
   "outputs": [
    {
     "name": "stdout",
     "output_type": "stream",
     "text": [
      "1.1307868014564534e-16\n"
     ]
    }
   ],
   "source": [
    "Conv=(5.1e13)**3 /(1.5e25)\n",
    "\n",
    "print(1/Conv)"
   ]
  }
 ],
 "metadata": {
  "kernelspec": {
   "display_name": "Python 3 (ipykernel)",
   "language": "python",
   "name": "python3"
  },
  "language_info": {
   "codemirror_mode": {
    "name": "ipython",
    "version": 3
   },
   "file_extension": ".py",
   "mimetype": "text/x-python",
   "name": "python",
   "nbconvert_exporter": "python",
   "pygments_lexer": "ipython3",
   "version": "3.9.12"
  }
 },
 "nbformat": 4,
 "nbformat_minor": 2
}
