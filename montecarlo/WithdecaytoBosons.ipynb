{
 "cells": [
  {
   "cell_type": "code",
   "execution_count": 3,
   "metadata": {},
   "outputs": [],
   "source": [
    "import numpy as np\n",
    "import matplotlib.pyplot as plt\n",
    "from scipy.special import kn\n",
    "import montecarlo as m\n",
    "from scipy.optimize import minimize_scalar"
   ]
  },
  {
   "cell_type": "code",
   "execution_count": 4,
   "metadata": {},
   "outputs": [],
   "source": [
    "class Function:\n",
    "  def __init__(self,Ms_,lash_):\n",
    "    self.Ms = Ms_\n",
    "    self.lash = lash_\n",
    "    self.mh = 125  #GeV  Masa del bosón de Higgs\n",
    "    self.vev = 246 #GeV Valor esperado del vacío\n",
    "    self.val_gamma = 0\n",
    "    self.T = 20 * self.Ms #Colocamos un valor de x = 20\n",
    "    self.Mw=80.4\n",
    "    self.Mz=90.4\n",
    "\n",
    "  def rat(self,m):\n",
    "    return m/self.mh\n",
    "\n",
    "  def gamma(self,m):\n",
    "    factor = 0\n",
    "    if(2*m <= self.mh):\n",
    "      f1 = (self.lash*self.vev) / (32*np.pi*self.mh)\n",
    "      f2 = np.sqrt(1 - self.rat(2*m)**2)\n",
    "      factor = f1 * f2\n",
    "    else:\n",
    "      factor = 0\n",
    "    self.val_gamma = 0.00407 +  factor\n",
    "    return  self.val_gamma\n",
    "\n",
    "  def funcD(self,s):\n",
    "    f1 = (s - self.mh**2)**2\n",
    "    f2 = self.mh**2 * self.gamma(self.Ms)**2\n",
    "    return 1 / (f1 + f2)\n",
    "\n",
    "\n",
    "  def sigma_rel(self,s):\n",
    "    f1 = (2*(self.lash*self.vev)**2) / (s**0.5)\n",
    "    f2 = self.funcD(s) * self.gamma(self.Ms)\n",
    "    return f1*f2\n",
    "  \n",
    "  def sigma_higgs(self,s):\n",
    "    \n",
    "    vs=(1- (4*(self.Ms)**2)/s)**0.5\n",
    "    vh=(1- (4*(self.mh)**2)/s)**0.5\n",
    "    \n",
    "    t_plus=self.Ms**2 +self.mh**2 -0.5*s*(1-vs*vh)\n",
    "    t_minus=self.Ms**2 +self.mh**2 -0.5*s*(1+vs*vh)\n",
    "    \n",
    "    aR=1+ 3*(self.mh**2) * (s-self.mh**2)*self.funcD(s)\n",
    "    aI=3*(self.mh**2)*((s)**0.5) *self.gamma(self.Ms)*self.funcD(s)\n",
    "    \n",
    "    f=self.lash**2 /(16*np.pi*s**2 *vs)\n",
    "    \n",
    "    f1=(aR**2 +aI**2)*s*vs*vh\n",
    "    f2=4*self.lash*self.vev**2 *(aR-(self.lash* self.vev**2)/(s-2*self.mh**2))*np.log(abs((self.Ms**2-t_plus)/(self.Ms**2-t_minus)))\n",
    "    f3=(2*self.lash**2*self.vev**4 *s*vs*vh)/((self.Ms**2-t_minus)*(self.Ms**2-t_plus))\n",
    "    \n",
    "    return f*(f1+f2+f3)\n",
    "  \n",
    "  def sigma_Boson_W(self,s):\n",
    "    x=self.Mw**2 /s\n",
    "    vW=(1-4*x)**0.5\n",
    "    \n",
    "    f=vW*self.lash**2 *s/(8*np.pi)\n",
    "    f1=self.funcD(s)*(1-4*x+12*x**2)\n",
    "    \n",
    "    return f*f1\n",
    "  \n",
    "  def sigma_Bonson_Z(self,s):\n",
    "      x=self.Mz**2 /s\n",
    "      vW=(1-4*x)**0.5\n",
    "    \n",
    "      f=0.5*vW*self.lash**2 *s/(8*np.pi)\n",
    "      f1=self.funcD(s)*(1-4*x+12*x**2)\n",
    "    \n",
    "      return f*f1\n",
    "    \n",
    "    \n",
    "\n",
    "  def funcion_int(self,s):\n",
    "    cond = s - (2*self.Ms)**2\n",
    "    '''\n",
    "    if (cond>=0):\n",
    "      f1 = s * np.sqrt(cond)\n",
    "    else:\n",
    "      f1 = 0\n",
    "    '''\n",
    "    suma = self.sigma_rel(s)+self.sigma_higgs(s) +self.sigma_Bonson_Z(s) +self.sigma_Boson_W(s) \n",
    "    f1 = s * np.sqrt(cond)\n",
    "    fsup = f1 * kn(1,np.sqrt(s)/self.T) * suma\n",
    "    finf = 16*self.T*(self.Ms**4)*kn(2,self.Ms/self.T)\n",
    "    return fsup/finf"
   ]
  },
  {
   "cell_type": "code",
   "execution_count": 5,
   "metadata": {},
   "outputs": [],
   "source": [
    "ms = 200\n",
    "lash = 0.1\n",
    "val = Function(ms,lash)\n",
    "f = val.funcion_int"
   ]
  },
  {
   "cell_type": "code",
   "execution_count": 6,
   "metadata": {},
   "outputs": [
    {
     "name": "stdout",
     "output_type": "stream",
     "text": [
      "160000 1600000000\n"
     ]
    }
   ],
   "source": [
    "xMin = 4*ms**2\n",
    "xMax = xMin*int(1e4)\n",
    "print(xMin,xMax)\n",
    "x = np.linspace(xMin,xMax,10000000)\n",
    "\n",
    "list=[xMin,xMax]"
   ]
  },
  {
   "cell_type": "code",
   "execution_count": null,
   "metadata": {},
   "outputs": [],
   "source": [
    "x_val = np.arange(xMin,xMax,10)\n",
    "print(x_val)"
   ]
  },
  {
   "cell_type": "code",
   "execution_count": 29,
   "metadata": {},
   "outputs": [
    {
     "name": "stderr",
     "output_type": "stream",
     "text": [
      "/tmp/ipykernel_9641/1979056421.py:48: RuntimeWarning: divide by zero encountered in divide\n",
      "  f=self.lash**2 /(16*np.pi*s**2 *vs)\n",
      "/tmp/ipykernel_9641/1979056421.py:54: RuntimeWarning: invalid value encountered in multiply\n",
      "  return f*(f1+f2+f3)\n"
     ]
    }
   ],
   "source": [
    "y = f(x)"
   ]
  },
  {
   "cell_type": "code",
   "execution_count": 30,
   "metadata": {},
   "outputs": [
    {
     "name": "stdout",
     "output_type": "stream",
     "text": [
      "1465760.4265987931\n"
     ]
    }
   ],
   "source": [
    "res1 = minimize_scalar(lambda x: -f(x), bounds=(xMin,xMax), method='bounded')\n",
    "maximo = res1.x\n",
    "print(maximo)"
   ]
  },
  {
   "cell_type": "code",
   "execution_count": 31,
   "metadata": {},
   "outputs": [
    {
     "data": {
      "image/png": "[encoded data removed]",
      "text/plain": [
       "<Figure size 432x288 with 1 Axes>"
      ]
     },
     "metadata": {
      "needs_background": "light"
     },
     "output_type": "display_data"
    }
   ],
   "source": [
    "plt.figure()\n",
    "plt.plot(x,y,'k.')\n",
    "plt.xscale('log')\n",
    "plt.xlabel('s')\n",
    "plt.ylabel('f(s)')\n",
    "#plt.xlim(int(1e4),int(1e15))\n",
    "plt.axvline(maximo, color=\"red\", linewidth=1, linestyle=\"dashed\")\n",
    "plt.show()"
   ]
  },
  {
   "cell_type": "code",
   "execution_count": 32,
   "metadata": {},
   "outputs": [
    {
     "name": "stdout",
     "output_type": "stream",
     "text": [
      "El resultado es 2.4629066127656173e-09\n",
      "Con error 3.9402565153669453\n",
      "Cross Section en $cm^{3}/s = 2.7830844724251473e-26\n"
     ]
    }
   ],
   "source": [
    "Resultado1=m.Integrador(f,1000000,list)\n",
    "print(Resultado1)"
   ]
  },
  {
   "cell_type": "code",
   "execution_count": 33,
   "metadata": {},
   "outputs": [],
   "source": [
    "#Método estratificado\n",
    "I = [(xMin,maximo),(maximo,xMax)]\n",
    "N1 = 1e7\n",
    "N2 = 1e7\n",
    "N = [int(N1),int(N2)]"
   ]
  },
  {
   "cell_type": "code",
   "execution_count": null,
   "metadata": {},
   "outputs": [],
   "source": [
    "y = abs(f(x - m))"
   ]
  },
  {
   "cell_type": "code",
   "execution_count": 36,
   "metadata": {},
   "outputs": [
    {
     "name": "stdout",
     "output_type": "stream",
     "text": [
      "1465760.4265987931\n",
      "1599999967.2295747\n"
     ]
    }
   ],
   "source": [
    "res2 = minimize_scalar(lambda x: abs(f(x) -maximo/2), bounds=(xMin,xMax), method='bounded')\n",
    "print(maximo)\n",
    "print(res2.x)"
   ]
  },
  {
   "cell_type": "code",
   "execution_count": 37,
   "metadata": {},
   "outputs": [
    {
     "data": {
      "image/png": "[encoded data removed]",
      "text/plain": [
       "<Figure size 432x288 with 1 Axes>"
      ]
     },
     "metadata": {
      "needs_background": "light"
     },
     "output_type": "display_data"
    }
   ],
   "source": [
    "plt.figure()\n",
    "plt.plot(x,y,'k.')\n",
    "plt.xscale('log')\n",
    "plt.xlabel('s')\n",
    "plt.ylabel('f(s)')\n",
    "#plt.xlim(int(1e4),int(1e15))\n",
    "plt.axvline(maximo, color=\"red\", linewidth=1, linestyle=\"dashed\")\n",
    "plt.axvline(res2.x, color=\"red\", linewidth=1, linestyle=\"dashed\")\n",
    "plt.show()"
   ]
  },
  {
   "cell_type": "code",
   "execution_count": 15,
   "metadata": {},
   "outputs": [
    {
     "name": "stdout",
     "output_type": "stream",
     "text": [
      "El valor de la integral es: 2.461603001855555e-09 y su error  es: 4.7543620276418704e-17\n"
     ]
    }
   ],
   "source": [
    "Resultado2 = m.IntegradorEstratificado(val.funcion_int,N,I)\n",
    "print(Resultado2)"
   ]
  },
  {
   "cell_type": "code",
   "execution_count": null,
   "metadata": {},
   "outputs": [],
   "source": []
  }
 ],
 "metadata": {
  "kernelspec": {
   "display_name": "Python 3 (ipykernel)",
   "language": "python",
   "name": "python3"
  },
  "language_info": {
   "codemirror_mode": {
    "name": "ipython",
    "version": 3
   },
   "file_extension": ".py",
   "mimetype": "text/x-python",
   "name": "python",
   "nbconvert_exporter": "python",
   "pygments_lexer": "ipython3",
   "version": "3.9.12"
  }
 },
 "nbformat": 4,
 "nbformat_minor": 2
}
